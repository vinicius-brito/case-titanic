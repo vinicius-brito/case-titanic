{
 "cells": [
  {
   "cell_type": "markdown",
   "metadata": {},
   "source": [
    "# Testes"
   ]
  },
  {
   "cell_type": "code",
   "execution_count": 1,
   "metadata": {},
   "outputs": [],
   "source": [
    "import requests\n",
    "\n",
    "url = \"https://5f67o0lpkk.execute-api.us-east-1.amazonaws.com/dev/sobreviventes\""
   ]
  },
  {
   "cell_type": "markdown",
   "metadata": {},
   "source": [
    "### Teste POST /sobreviventes"
   ]
  },
  {
   "cell_type": "markdown",
   "metadata": {},
   "source": [
    "#### Entrada Ideal"
   ]
  },
  {
   "cell_type": "code",
   "execution_count": 2,
   "metadata": {},
   "outputs": [
    {
     "name": "stdout",
     "output_type": "stream",
     "text": [
      "Status Code: 200\n",
      "Response JSON: {'id': '46ecdbf1-47ed-46f1-833d-98fdbf7fd832', 'probabilidade_sobrevivencia': 41.33}\n"
     ]
    }
   ],
   "source": [
    "# Payload correto com 8 números (float ou int)\n",
    "payload = {\n",
    "    \"caracteristicas\": [1.0, 2.0, 3.0, 4.0, 1, 0, 1, 0]\n",
    "}\n",
    "\n",
    "# Enviando a requisição POST\n",
    "response = requests.post(url, json=payload)\n",
    "\n",
    "# Verificando a resposta\n",
    "print(f\"Status Code: {response.status_code}\")\n",
    "print(f\"Response JSON: {response.json()}\")"
   ]
  },
  {
   "cell_type": "markdown",
   "metadata": {},
   "source": [
    "#### Entrada sem 8 características"
   ]
  },
  {
   "cell_type": "code",
   "execution_count": 3,
   "metadata": {},
   "outputs": [
    {
     "name": "stdout",
     "output_type": "stream",
     "text": [
      "Status Code: 422\n",
      "Response JSON: {'detail': 'Número de características inválido. Esperado 8 características.'}\n"
     ]
    }
   ],
   "source": [
    "# Payload correto com 8 números (float ou int)\n",
    "payload = {\n",
    "    \"caracteristicas\": [1.0, 2.0, 3.0, 4.0, 1, 0, 1]\n",
    "}\n",
    "\n",
    "# Enviando a requisição POST\n",
    "response = requests.post(url, json=payload)\n",
    "\n",
    "# Verificando a resposta\n",
    "print(f\"Status Code: {response.status_code}\")\n",
    "print(f\"Response JSON: {response.json()}\")"
   ]
  },
  {
   "cell_type": "markdown",
   "metadata": {},
   "source": [
    "#### Entrada sem 8 informações númericas"
   ]
  },
  {
   "cell_type": "code",
   "execution_count": 4,
   "metadata": {},
   "outputs": [
    {
     "name": "stdout",
     "output_type": "stream",
     "text": [
      "Status Code: 422\n",
      "Response JSON: {'detail': [{'type': 'float_parsing', 'loc': ['body', 'caracteristicas', 6], 'msg': 'Input should be a valid number, unable to parse string as a number', 'input': 'foo'}]}\n"
     ]
    }
   ],
   "source": [
    "# Payload correto com 8 números (float ou int)\n",
    "payload = {\n",
    "    \"caracteristicas\": [1.0, 2.0, 3.0, 4.0, 1, 0, 'foo']\n",
    "}\n",
    "\n",
    "# Enviando a requisição POST\n",
    "response = requests.post(url, json=payload)\n",
    "\n",
    "# Verificando a resposta\n",
    "print(f\"Status Code: {response.status_code}\")\n",
    "print(f\"Response JSON: {response.json()}\")"
   ]
  },
  {
   "cell_type": "markdown",
   "metadata": {},
   "source": [
    "#### Entrada com alguma caracteristica fora do esperado"
   ]
  },
  {
   "cell_type": "code",
   "execution_count": 5,
   "metadata": {},
   "outputs": [
    {
     "name": "stdout",
     "output_type": "stream",
     "text": [
      "Status Code: 422\n",
      "Response JSON: {'detail': 'Características inválidas.'}\n"
     ]
    }
   ],
   "source": [
    "# Payload correto com 8 números (float ou int)\n",
    "payload = {\n",
    "    \"caracteristicas\": [1.0, 2.0, 3.0, 4.0, 1, 0, 3, 0]\n",
    "}\n",
    "\n",
    "# Enviando a requisição POST\n",
    "response = requests.post(url, json=payload)\n",
    "\n",
    "# Verificando a resposta\n",
    "print(f\"Status Code: {response.status_code}\")\n",
    "print(f\"Response JSON: {response.json()}\")"
   ]
  },
  {
   "cell_type": "markdown",
   "metadata": {},
   "source": [
    "### Teste GET /sobreviventes"
   ]
  },
  {
   "cell_type": "code",
   "execution_count": 6,
   "metadata": {},
   "outputs": [
    {
     "name": "stdout",
     "output_type": "stream",
     "text": [
      "Status Code: 200\n",
      "Response JSON: {'sobreviventes': [{'id': 'adf5e792-7af1-4249-88c6-92090df84659', 'probabilidade_sobrevivencia': 41.33}, {'id': '15b55056-e4f0-48d8-874d-cf1af2997020', 'probabilidade_sobrevivencia': 41.33}, {'id': '4a13ebd8-fae5-4e34-ab5e-18df5f5161d5', 'probabilidade_sobrevivencia': 22.73}, {'id': '2935b74e-1ec7-42c5-97cb-179e46af2873', 'probabilidade_sobrevivencia': 41.33}, {'id': '46ecdbf1-47ed-46f1-833d-98fdbf7fd832', 'probabilidade_sobrevivencia': 41.33}]}\n"
     ]
    }
   ],
   "source": [
    "response = requests.get(url)\n",
    "\n",
    "# Verificando a resposta\n",
    "print(f\"Status Code: {response.status_code}\")\n",
    "print(f\"Response JSON: {response.json()}\")"
   ]
  },
  {
   "cell_type": "markdown",
   "metadata": {},
   "source": [
    "### Teste DELETE /sobreviventes/{id}"
   ]
  },
  {
   "cell_type": "markdown",
   "metadata": {},
   "source": [
    "#### Entrada Ideal"
   ]
  },
  {
   "cell_type": "code",
   "execution_count": 7,
   "metadata": {},
   "outputs": [
    {
     "name": "stdout",
     "output_type": "stream",
     "text": [
      "Status Code: 403\n",
      "Response JSON: {'message': 'Missing Authentication Token'}\n"
     ]
    }
   ],
   "source": [
    "response = requests.delete(url+'adf5e792-7af1-4249-88c6-92090df84659')\n",
    "\n",
    "# Verificando a resposta\n",
    "print(f\"Status Code: {response.status_code}\")\n",
    "print(f\"Response JSON: {response.json()}\")"
   ]
  },
  {
   "cell_type": "markdown",
   "metadata": {},
   "source": [
    "#### Entrada com problema no id"
   ]
  },
  {
   "cell_type": "code",
   "execution_count": 13,
   "metadata": {},
   "outputs": [
    {
     "name": "stdout",
     "output_type": "stream",
     "text": [
      "Status Code: 404\n",
      "Response JSON: {'detail': 'ID de passageiro não encontrado.'}\n"
     ]
    }
   ],
   "source": [
    "response = requests.delete(url+'/foo')\n",
    "\n",
    "# Verificando a resposta\n",
    "print(f\"Status Code: {response.status_code}\")\n",
    "print(f\"Response JSON: {response.json()}\")"
   ]
  },
  {
   "cell_type": "markdown",
   "metadata": {},
   "source": [
    "### Teste GET /sobreviventes/{id}"
   ]
  },
  {
   "cell_type": "markdown",
   "metadata": {},
   "source": [
    "#### Entrada Ideal"
   ]
  },
  {
   "cell_type": "code",
   "execution_count": 11,
   "metadata": {},
   "outputs": [
    {
     "name": "stdout",
     "output_type": "stream",
     "text": [
      "Status Code: 200\n",
      "Response JSON: {'probabilidade_sobrevivencia': 41.33}\n"
     ]
    }
   ],
   "source": [
    "response = requests.get(url+'/15b55056-e4f0-48d8-874d-cf1af2997020')\n",
    "\n",
    "# Verificando a resposta\n",
    "print(f\"Status Code: {response.status_code}\")\n",
    "print(f\"Response JSON: {response.json()}\")"
   ]
  },
  {
   "cell_type": "markdown",
   "metadata": {},
   "source": [
    "#### Entrada com algum problema no id"
   ]
  },
  {
   "cell_type": "code",
   "execution_count": 12,
   "metadata": {},
   "outputs": [
    {
     "name": "stdout",
     "output_type": "stream",
     "text": [
      "Status Code: 404\n",
      "Response JSON: {'detail': 'ID de passageiro não encontrado.'}\n"
     ]
    }
   ],
   "source": [
    "response = requests.get(url+'/foo')\n",
    "\n",
    "# Verificando a resposta\n",
    "print(f\"Status Code: {response.status_code}\")\n",
    "print(f\"Response JSON: {response.json()}\")"
   ]
  }
 ],
 "metadata": {
  "kernelspec": {
   "display_name": "itau2",
   "language": "python",
   "name": "python3"
  },
  "language_info": {
   "codemirror_mode": {
    "name": "ipython",
    "version": 3
   },
   "file_extension": ".py",
   "mimetype": "text/x-python",
   "name": "python",
   "nbconvert_exporter": "python",
   "pygments_lexer": "ipython3",
   "version": "3.8.18"
  }
 },
 "nbformat": 4,
 "nbformat_minor": 2
}
