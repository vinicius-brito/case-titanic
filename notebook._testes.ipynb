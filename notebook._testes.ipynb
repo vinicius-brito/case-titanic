{
 "cells": [
  {
   "cell_type": "markdown",
   "metadata": {},
   "source": [
    "# Testes"
   ]
  },
  {
   "cell_type": "code",
   "execution_count": 13,
   "metadata": {},
   "outputs": [],
   "source": [
    "import requests\n",
    "\n",
    "url = \"http://localhost:8000/sobreviventes\""
   ]
  },
  {
   "cell_type": "markdown",
   "metadata": {},
   "source": [
    "### Teste POST /sobreviventes"
   ]
  },
  {
   "cell_type": "markdown",
   "metadata": {},
   "source": [
    "#### Entrada Ideal"
   ]
  },
  {
   "cell_type": "code",
   "execution_count": 8,
   "metadata": {},
   "outputs": [
    {
     "name": "stdout",
     "output_type": "stream",
     "text": [
      "Status Code: 200\n",
      "Response JSON: {'id': '99e63a0a-3fff-4bf1-b7d2-c73ce1a6c9cb', 'probabilidade_sobrevivencia': 41.33}\n"
     ]
    }
   ],
   "source": [
    "# Payload correto com 8 números (float ou int)\n",
    "payload = {\n",
    "    \"caracteristicas\": [1.0, 2.0, 3.0, 4.0, 1, 0, 1, 0]\n",
    "}\n",
    "\n",
    "# Enviando a requisição POST\n",
    "response = requests.post(url, json=payload)\n",
    "\n",
    "# Verificando a resposta\n",
    "print(f\"Status Code: {response.status_code}\")\n",
    "print(f\"Response JSON: {response.json()}\")"
   ]
  },
  {
   "cell_type": "markdown",
   "metadata": {},
   "source": [
    "#### Entrada sem 8 características"
   ]
  },
  {
   "cell_type": "code",
   "execution_count": 17,
   "metadata": {},
   "outputs": [
    {
     "name": "stdout",
     "output_type": "stream",
     "text": [
      "Status Code: 400\n",
      "Response JSON: {'detail': 'Número de características inválido. Esperado 8 características.'}\n"
     ]
    }
   ],
   "source": [
    "# Payload correto com 8 números (float ou int)\n",
    "payload = {\n",
    "    \"caracteristicas\": [1.0, 2.0, 3.0, 4.0, 1, 0, 1]\n",
    "}\n",
    "\n",
    "# Enviando a requisição POST\n",
    "response = requests.post(url, json=payload)\n",
    "\n",
    "# Verificando a resposta\n",
    "print(f\"Status Code: {response.status_code}\")\n",
    "print(f\"Response JSON: {response.json()}\")"
   ]
  },
  {
   "cell_type": "markdown",
   "metadata": {},
   "source": [
    "#### Entrada sem 8 informações númericas"
   ]
  },
  {
   "cell_type": "code",
   "execution_count": 19,
   "metadata": {},
   "outputs": [
    {
     "name": "stdout",
     "output_type": "stream",
     "text": [
      "Status Code: 422\n",
      "Response JSON: {'detail': [{'type': 'float_parsing', 'loc': ['body', 'caracteristicas', 6], 'msg': 'Input should be a valid number, unable to parse string as a number', 'input': 'foo'}]}\n"
     ]
    }
   ],
   "source": [
    "# Payload correto com 8 números (float ou int)\n",
    "payload = {\n",
    "    \"caracteristicas\": [1.0, 2.0, 3.0, 4.0, 1, 0, 'foo']\n",
    "}\n",
    "\n",
    "# Enviando a requisição POST\n",
    "response = requests.post(url, json=payload)\n",
    "\n",
    "# Verificando a resposta\n",
    "print(f\"Status Code: {response.status_code}\")\n",
    "print(f\"Response JSON: {response.json()}\")"
   ]
  },
  {
   "cell_type": "markdown",
   "metadata": {},
   "source": [
    "#### Entrada com alguma caracteristica fora do esperado"
   ]
  },
  {
   "cell_type": "code",
   "execution_count": 21,
   "metadata": {},
   "outputs": [
    {
     "name": "stdout",
     "output_type": "stream",
     "text": [
      "Status Code: 400\n",
      "Response JSON: {'detail': 'Características inválidas.'}\n"
     ]
    }
   ],
   "source": [
    "# Payload correto com 8 números (float ou int)\n",
    "payload = {\n",
    "    \"caracteristicas\": [1.0, 2.0, 3.0, 4.0, 1, 0, 3, 0]\n",
    "}\n",
    "\n",
    "# Enviando a requisição POST\n",
    "response = requests.post(url, json=payload)\n",
    "\n",
    "# Verificando a resposta\n",
    "print(f\"Status Code: {response.status_code}\")\n",
    "print(f\"Response JSON: {response.json()}\")"
   ]
  },
  {
   "cell_type": "markdown",
   "metadata": {},
   "source": [
    "### Teste GET /sobreviventes"
   ]
  },
  {
   "cell_type": "code",
   "execution_count": 22,
   "metadata": {},
   "outputs": [
    {
     "name": "stdout",
     "output_type": "stream",
     "text": [
      "Status Code: 200\n",
      "Response JSON: [{'id': 'adf5e792-7af1-4249-88c6-92090df84659', 'probabilidade_sobrevivencia': 41.33}, {'id': '15b55056-e4f0-48d8-874d-cf1af2997020', 'probabilidade_sobrevivencia': 41.33}, {'id': '4a13ebd8-fae5-4e34-ab5e-18df5f5161d5', 'probabilidade_sobrevivencia': 22.73}, {'id': '2935b74e-1ec7-42c5-97cb-179e46af2873', 'probabilidade_sobrevivencia': 41.33}]\n"
     ]
    }
   ],
   "source": [
    "response = requests.get(url)\n",
    "\n",
    "# Verificando a resposta\n",
    "print(f\"Status Code: {response.status_code}\")\n",
    "print(f\"Response JSON: {response.json()}\")"
   ]
  },
  {
   "cell_type": "markdown",
   "metadata": {},
   "source": [
    "### Teste DELETE /sobreviventes/{id}"
   ]
  },
  {
   "cell_type": "code",
   "execution_count": 11,
   "metadata": {},
   "outputs": [
    {
     "name": "stdout",
     "output_type": "stream",
     "text": [
      "Status Code: 200\n",
      "Response JSON: {'message': 'Registro deletado com sucesso.'}\n"
     ]
    }
   ],
   "source": [
    "response = requests.delete(url+'/99e63a0a-3fff-4bf1-b7d2-c73ce1a6c9cb')\n",
    "\n",
    "# Verificando a resposta\n",
    "print(f\"Status Code: {response.status_code}\")\n",
    "print(f\"Response JSON: {response.json()}\")"
   ]
  },
  {
   "cell_type": "markdown",
   "metadata": {},
   "source": [
    "### Teste GET /sobreviventes/{id}"
   ]
  },
  {
   "cell_type": "code",
   "execution_count": 16,
   "metadata": {},
   "outputs": [
    {
     "name": "stdout",
     "output_type": "stream",
     "text": [
      "Status Code: 200\n",
      "Response JSON: {'id': '15b55056-e4f0-48d8-874d-cf1af2997020', 'probabilidade_sobrevivencia': 41.33}\n"
     ]
    }
   ],
   "source": [
    "response = requests.get(url+'/15b55056-e4f0-48d8-874d-cf1af2997020')\n",
    "\n",
    "# Verificando a resposta\n",
    "print(f\"Status Code: {response.status_code}\")\n",
    "print(f\"Response JSON: {response.json()}\")"
   ]
  }
 ],
 "metadata": {
  "kernelspec": {
   "display_name": "itau2",
   "language": "python",
   "name": "python3"
  },
  "language_info": {
   "codemirror_mode": {
    "name": "ipython",
    "version": 3
   },
   "file_extension": ".py",
   "mimetype": "text/x-python",
   "name": "python",
   "nbconvert_exporter": "python",
   "pygments_lexer": "ipython3",
   "version": "3.8.18"
  }
 },
 "nbformat": 4,
 "nbformat_minor": 2
}
