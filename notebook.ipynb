{
 "cells": [
  {
   "cell_type": "code",
   "execution_count": 4,
   "metadata": {},
   "outputs": [
    {
     "name": "stdout",
     "output_type": "stream",
     "text": [
      "Falha na request. Código de status: 422\n",
      "Resposta:  {'detail': [{'type': 'list_type', 'loc': ['body'], 'msg': 'Input should be a valid list', 'input': {'caracteristicas': [22.0, 0, 1, 7, 2, 0, 0, 1]}}]}\n"
     ]
    }
   ],
   "source": [
    "import requests\n",
    "import json\n",
    "\n",
    "# URL da rota para onde a request será enviada\n",
    "url = 'https://5f67o0lpkk.execute-api.us-east-1.amazonaws.com/dev/sobreviventes'\n",
    "\n",
    "# Dados que serão enviados na request POST\n",
    "dados = {\n",
    "    \"caracteristicas\": [22.0, 0, 1, 7, 2, 0, 0, 1]\n",
    "}\n",
    "\n",
    "# Convertendo os dados para JSON\n",
    "dados_json = json.dumps(dados)\n",
    "\n",
    "# Cabeçalhos da requisição\n",
    "headers = {\n",
    "    'Content-Type': 'application/json'\n",
    "}\n",
    "\n",
    "# Fazendo a request POST\n",
    "response = requests.post(url, headers=headers, data=dados_json)\n",
    "\n",
    "# Verificando a resposta\n",
    "if response.status_code == 200:\n",
    "    print('Request bem-sucedida!')\n",
    "    print('Resposta:', response.json())\n",
    "else:\n",
    "    print('Falha na request. Código de status:', response.status_code)\n",
    "    print('Resposta: ', response.json())"
   ]
  }
 ],
 "metadata": {
  "kernelspec": {
   "display_name": "itau2",
   "language": "python",
   "name": "python3"
  },
  "language_info": {
   "codemirror_mode": {
    "name": "ipython",
    "version": 3
   },
   "file_extension": ".py",
   "mimetype": "text/x-python",
   "name": "python",
   "nbconvert_exporter": "python",
   "pygments_lexer": "ipython3",
   "version": "3.8.18"
  }
 },
 "nbformat": 4,
 "nbformat_minor": 2
}
